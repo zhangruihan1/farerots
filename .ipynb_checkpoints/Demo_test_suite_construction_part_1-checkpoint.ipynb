{
 "cells": [
  {
   "cell_type": "markdown",
   "id": "04c5cc36",
   "metadata": {},
   "source": [
    "We demonstrate how the test cases for glasses perturbation are generated and optimised. This generation is based on a group of tuning face recognition systems in white-box setting."
   ]
  },
  {
   "cell_type": "markdown",
   "id": "4f7063c1",
   "metadata": {},
   "source": [
    "# 1. Sample Generation\n",
    "The input to the generation agorithm (mPGD) is a set of face pairs (face_1, face_2)"
   ]
  },
  {
   "cell_type": "code",
   "execution_count": 1,
   "id": "9b194839",
   "metadata": {},
   "outputs": [
    {
     "name": "stdout",
     "output_type": "stream",
     "text": [
      "How many pairs are in the input? 20\n"
     ]
    }
   ],
   "source": [
    "import numpy as np\n",
    "from PIL import Image\n",
    "\n",
    "sample_face_pairs = [(np.array(Image.open(f\"samples/image_{k}_A.jpg\").resize((112, 112))),\n",
    "                     np.array(Image.open(f\"samples/image_{k}_B.jpg\").resize((112, 112)))) for k in range(20)]\n",
    "\n",
    "print(\"How many pairs are in the input?\", len(sample_face_pairs))\n",
    "print(\"-> Change 20 to a higher number for full generation.\")"
   ]
  },
  {
   "cell_type": "code",
   "execution_count": 2,
   "id": "df42700c",
   "metadata": {},
   "outputs": [],
   "source": [
    "import sys\n",
    "sys.path.append('whitebox_adversarial')\n",
    "from objective import WhiteboxWithOneSystem, WhiteboxWithMultipleSystems\n",
    "from image2perturbed import WhiteboxGlassesPerturbation"
   ]
  },
  {
   "cell_type": "code",
   "execution_count": 3,
   "id": "a3b367bb",
   "metadata": {},
   "outputs": [],
   "source": [
    "perturb = WhiteboxGlassesPerturbation()\n",
    "my_systems = ['FaceNet', 'r50', 'EfficientNet', 'ReXNet', 'AttentionNet', 'RepVGG', 'GhostNet', 'TF-NAS', 'LightCNN']\n",
    "\n",
    "\n",
    "import random\n",
    "random.seed(100000)\n",
    "\n",
    "my_system = random.choice(my_systems)"
   ]
  },
  {
   "cell_type": "code",
   "execution_count": null,
   "id": "8570a12e",
   "metadata": {},
   "outputs": [
    {
     "name": "stdout",
     "output_type": "stream",
     "text": [
      "r50\n",
      "sample 0\n"
     ]
    },
    {
     "data": {
      "application/vnd.jupyter.widget-view+json": {
       "model_id": "2e254dc2d7bc4796bd742bb1684e73d8",
       "version_major": 2,
       "version_minor": 0
      },
      "text/plain": [
       "  0%|          | 0/1000 [00:00<?, ?it/s]"
      ]
     },
     "metadata": {},
     "output_type": "display_data"
    },
    {
     "name": "stdout",
     "output_type": "stream",
     "text": [
      "sample 1\n"
     ]
    },
    {
     "data": {
      "application/vnd.jupyter.widget-view+json": {
       "model_id": "f78aa78c6e6d463b9b94b1815d9a01ea",
       "version_major": 2,
       "version_minor": 0
      },
      "text/plain": [
       "  0%|          | 0/1000 [00:00<?, ?it/s]"
      ]
     },
     "metadata": {},
     "output_type": "display_data"
    },
    {
     "name": "stdout",
     "output_type": "stream",
     "text": [
      "sample 2\n"
     ]
    },
    {
     "data": {
      "application/vnd.jupyter.widget-view+json": {
       "model_id": "a60f82e70caa4b0397114f4bbb7c1152",
       "version_major": 2,
       "version_minor": 0
      },
      "text/plain": [
       "  0%|          | 0/1000 [00:00<?, ?it/s]"
      ]
     },
     "metadata": {},
     "output_type": "display_data"
    }
   ],
   "source": [
    "from tqdm.notebook import tqdm, trange\n",
    "\n",
    "box = WhiteboxWithMultipleSystems(my_system)\n",
    "print(my_system)\n",
    "\n",
    "generated_samples = []\n",
    "\n",
    "for k, (i1, i2) in enumerate(sample_face_pairs):\n",
    "    print(\"sample\", k)\n",
    "\n",
    "    i1 = np.expand_dims(i1, 0) \n",
    "    i2 = np.expand_dims(i2, 0) \n",
    "\n",
    "    sim = box.cosine_similarity(i1, i2)\n",
    "    y_pred = np.sign(box.y_preds[0] - 0.5)\n",
    "\n",
    "    i1_ = np.array(i1, copy=True)\n",
    "\n",
    "    min_bce = 1\n",
    "\n",
    "    for i in trange(1000):\n",
    "        g_1, _ = box.get_grads(i1_, i2)\n",
    "        i1_ = perturb.perturb_single_image(i1, i1_, y_pred * g_1)\n",
    "        sim_test = box.cosine_similarity(i1_, i2)\n",
    "\n",
    "        if sim_test * y_pred < min_bce:\n",
    "            min_bce = sim_test * y_pred\n",
    "            generated_samples.append((i1, i1_.astype(np.uint8), i2))"
   ]
  },
  {
   "cell_type": "code",
   "execution_count": null,
   "id": "e16d3762",
   "metadata": {},
   "outputs": [],
   "source": [
    "import matplotlib.pyplot as plt\n",
    "plt.imshow(generated_samples[-1][0].squeeze(0))\n",
    "plt.title('original')\n",
    "plt.show()\n",
    "plt.imshow(generated_samples[-1][1].squeeze(0))\n",
    "plt.title('perturbed')\n",
    "plt.show()\n",
    "plt.imshow(generated_samples[-1][2].squeeze(0))\n",
    "plt.title('To compare')\n",
    "plt.show()"
   ]
  },
  {
   "cell_type": "markdown",
   "id": "47613fc6",
   "metadata": {},
   "source": [
    "pre-compute the prediction of each face recognition system on each sample, so we don't need to repeat it in the optimisation loop later"
   ]
  },
  {
   "cell_type": "code",
   "execution_count": null,
   "id": "77217036",
   "metadata": {},
   "outputs": [],
   "source": [
    "all_alters = {}\n",
    "\n",
    "for my_system in my_systems:\n",
    "    print(my_system)\n",
    "    \n",
    "    box = WhiteboxWithMultipleSystems(my_system)\n",
    "\n",
    "    altered = []\n",
    "    for sample in tqdm(generated_samples):\n",
    "        _ = box.cosine_similarity(sample[0], sample[2])\n",
    "        y_pred = box.y_preds[0]\n",
    "        _ = box.cosine_similarity(sample[1], sample[2])\n",
    "        y_pred_ = box.y_preds[0]\n",
    "        altered.append(y_pred != y_pred_)      \n",
    "\n",
    "\n",
    "    all_alters[my_system] = altered\n",
    "\n",
    "import pandas as pd\n",
    "df = pd.DataFrame(all_alters)\n",
    "df"
   ]
  }
 ],
 "metadata": {
  "kernelspec": {
   "display_name": "Python 3 (ipykernel)",
   "language": "python",
   "name": "python3"
  },
  "language_info": {
   "codemirror_mode": {
    "name": "ipython",
    "version": 3
   },
   "file_extension": ".py",
   "mimetype": "text/x-python",
   "name": "python",
   "nbconvert_exporter": "python",
   "pygments_lexer": "ipython3",
   "version": "3.9.12"
  }
 },
 "nbformat": 4,
 "nbformat_minor": 5
}
